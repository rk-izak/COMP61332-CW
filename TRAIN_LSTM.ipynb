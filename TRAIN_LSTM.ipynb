{
 "cells": [
  {
   "cell_type": "markdown",
   "metadata": {},
   "source": [
    "## GUI for Training regarding LSTM Models\n",
    "### Description:\n",
    "* Model: Selection of given architectures. Each model will be trained on data found in `data/full/` folder, and their architectures can be seen in `/utils/lstm_models.py`.\n",
    "* Val Split: Amount of train data to be used for validation using training.\n",
    "* Epochs: Number of epochs to train for.\n",
    "* Batch size: Data batch size.\n",
    "* Trainable Embeddings: Whether to finetune embeddings (works only for GloVe and BERT).\n",
    "* Train Model: Start the training.\n",
    "\n",
    "#### NOTE: If outputs are printed more than once, try changing the kernel/venv into another one, and reverting. It should fix it.\n",
    "#### NOTE: Using bert-based models might result in efficiency drop, especially running for the first time, as the models need to be downloaded."
   ]
  },
  {
   "cell_type": "code",
   "execution_count": null,
   "metadata": {},
   "outputs": [],
   "source": [
    "%reset -f\n",
    "from utils.lstm_train import LSTMTrainGUI\n",
    "gui = LSTMTrainGUI()"
   ]
  }
 ],
 "metadata": {
  "kernelspec": {
   "display_name": "venv",
   "language": "python",
   "name": "python3"
  },
  "language_info": {
   "codemirror_mode": {
    "name": "ipython",
    "version": 3
   },
   "file_extension": ".py",
   "mimetype": "text/x-python",
   "name": "python",
   "nbconvert_exporter": "python",
   "pygments_lexer": "ipython3",
   "version": "3.7.4"
  }
 },
 "nbformat": 4,
 "nbformat_minor": 2
}
