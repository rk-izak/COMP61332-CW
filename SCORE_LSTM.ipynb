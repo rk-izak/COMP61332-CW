{
 "cells": [
  {
   "cell_type": "markdown",
   "metadata": {},
   "source": [
    "## GUI for Scoring regarding LSTM Models\n",
    "### Description:\n",
    "* Model: Selection of pretrained architectures. Each model was trained on data found in `data/full/` folder, and their architectures can be seen in `/utils/lstm_models.py`. \n",
    "* Score Model: Outputs relevant metrics for the selected model (Confusion Matrix + Table).\n",
    "\n",
    "#### NOTE: If outputs are printed more than once, try changing the kernel/venv into another one, and reverting. It should fix it.\n",
    "#### NOTE: Using bert-based models might result in efficiency drop, especially running for the first time, as the models need to be downloaded."
   ]
  },
  {
   "cell_type": "code",
   "execution_count": null,
   "metadata": {},
   "outputs": [],
   "source": [
    "%reset -f\n",
    "from utils.lstm_scorer import LSTMScorerGUI\n",
    "gui = LSTMScorerGUI()"
   ]
  }
 ],
 "metadata": {
  "kernelspec": {
   "display_name": "venv",
   "language": "python",
   "name": "python3"
  },
  "language_info": {
   "codemirror_mode": {
    "name": "ipython",
    "version": 3
   },
   "file_extension": ".py",
   "mimetype": "text/x-python",
   "name": "python",
   "nbconvert_exporter": "python",
   "pygments_lexer": "ipython3",
   "version": "3.7.4"
  }
 },
 "nbformat": 4,
 "nbformat_minor": 2
}
